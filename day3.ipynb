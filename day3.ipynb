{
  "nbformat": 4,
  "nbformat_minor": 0,
  "metadata": {
    "colab": {
      "provenance": [],
      "authorship_tag": "ABX9TyMGs3q9Dta0OJzpWWxsFlPH",
      "include_colab_link": true
    },
    "kernelspec": {
      "name": "python3",
      "display_name": "Python 3"
    },
    "language_info": {
      "name": "python"
    }
  },
  "cells": [
    {
      "cell_type": "markdown",
      "metadata": {
        "id": "view-in-github",
        "colab_type": "text"
      },
      "source": [
        "<a href=\"https://colab.research.google.com/github/santhiravuri/generative-ai-internship/blob/main/day3.ipynb\" target=\"_parent\"><img src=\"https://colab.research.google.com/assets/colab-badge.svg\" alt=\"Open In Colab\"/></a>"
      ]
    },
    {
      "cell_type": "code",
      "execution_count": null,
      "metadata": {
        "id": "5kq7z6sCPehN"
      },
      "outputs": [],
      "source": [
        "# Hands on : Build and Train a VAE\n",
        "\n",
        "import torch\n",
        "from torch import nn,optim\n",
        "from torchvision import datasets, transforms\n",
        "from torch.utils.data import DataLoader"
      ]
    },
    {
      "cell_type": "code",
      "source": [
        "import torch\n",
        "import torch.nn as nn\n",
        "\n",
        "# Encoder definition\n",
        "class Encoder(nn.Module):  # Fixed typo: 'Modue' → 'Module'\n",
        "    def __init__(self, input_dim, hidden_dim, latent_dim):\n",
        "        super().__init__()\n",
        "        self.fc1 = nn.Linear(input_dim, hidden_dim)\n",
        "        self.fc_mu = nn.Linear(hidden_dim, latent_dim)        # Fixed missing '='\n",
        "        self.fc_logvar = nn.Linear(hidden_dim, latent_dim)    # Fixed typo: 'linear' → 'Linear'\n",
        "\n",
        "    def forward(self, x):\n",
        "        h = torch.relu(self.fc1(x))\n",
        "        mu = self.fc_mu(h)\n",
        "        logvar = self.fc_logvar(h)\n",
        "        return mu, logvar\n",
        "\n",
        "# Decoder definition\n",
        "class Decoder(nn.Module):\n",
        "    def __init__(self, latent_dim, hidden_dim, output_dim):\n",
        "        super().__init__()\n",
        "        self.fc1 = nn.Linear(latent_dim, hidden_dim)\n",
        "        self.fc2 = nn.Linear(hidden_dim, output_dim)\n",
        "\n",
        "    def forward(self, z):\n",
        "        h = torch.relu(self.fc1(z))\n",
        "        return torch.sigmoid(self.fc2(h))\n"
      ],
      "metadata": {
        "id": "bMmhg108Pju4"
      },
      "execution_count": null,
      "outputs": []
    },
    {
      "cell_type": "code",
      "source": [
        "#define VAE  with sampling\n",
        "class VAE(nn.Module):\n",
        "       def __init__(self, input_dim, hidden_dim, latent_dim):\n",
        "           super().__init__()\n",
        "           self.encoder = Encoder(input_dim, hidden_dim, latent_dim)\n",
        "           self.decoder = Decoder(latent_dim, hidden_dim, input_dim)\n",
        "\n",
        "       def reparameterize(self, mu, logvar):\n",
        "           std = torch.exp(0.5 * logvar)\n",
        "           eps = torch.randn_like(std)\n",
        "           return mu + eps * std\n",
        "\n",
        "       def forward(self, x):\n",
        "           mu, logvar = self.encoder(x)\n",
        "           z = self.reparameterize(mu, logvar)\n",
        "           return self.decoder(z), mu, logvar"
      ],
      "metadata": {
        "id": "QOw3wSV7PtD4"
      },
      "execution_count": null,
      "outputs": []
    },
    {
      "cell_type": "code",
      "source": [
        "def loss_function(recon_x, x, mu, logvar):\n",
        "       BCE = nn.functional.binary_cross_entropy(recon_x, x, reduction='sum')\n",
        "       KLD = -0.5 * torch.sum(1 + logvar - mu.pow(2) - logvar.exp())\n",
        "       return BCE + KLD\n"
      ],
      "metadata": {
        "id": "QdQ07nWrPvcn"
      },
      "execution_count": null,
      "outputs": []
    },
    {
      "cell_type": "code",
      "source": [
        "# 5. Train the VAE\n",
        "\n",
        "# Load MNIST dataset\n",
        "transform = transforms.ToTensor()\n",
        "train_dataset = datasets.MNIST(root='./data', train=True, transform=transform, download=True)\n",
        "train_loader = DataLoader(train_dataset, batch_size=128, shuffle=True)\n",
        "\n",
        "# Set device\n",
        "device = torch.device(\"cuda\" if torch.cuda.is_available() else \"cpu\")\n",
        "\n",
        "# Initialize model, optimizer\n",
        "input_dim = 28 * 28\n",
        "hidden_dim = 400\n",
        "latent_dim = 20\n",
        "\n",
        "model = VAE(input_dim, hidden_dim, latent_dim).to(device)\n",
        "optimizer = optim.Adam(model.parameters(), lr=1e-3)\n",
        "\n",
        "# Training loop\n",
        "epochs = 10\n",
        "model.train()\n",
        "for epoch in range(epochs):\n",
        "    train_loss = 0\n",
        "    for batch_idx, (data, _) in enumerate(train_loader):\n",
        "        data = data.view(-1, 784).to(device)\n",
        "        optimizer.zero_grad()\n",
        "        recon_batch, mu, logvar = model(data)\n",
        "        loss = loss_function(recon_batch, data, mu, logvar)\n",
        "        loss.backward()\n",
        "        train_loss += loss.item()\n",
        "        optimizer.step()\n",
        "\n",
        "    print(f'Epoch {epoch+1}, Loss: {train_loss / len(train_loader.dataset):.4f}')\n"
      ],
      "metadata": {
        "colab": {
          "base_uri": "https://localhost:8080/"
        },
        "id": "XQspmxOJPyCl",
        "outputId": "954cbb2f-b0fb-41d8-88d8-b3588acb988f"
      },
      "execution_count": null,
      "outputs": [
        {
          "output_type": "stream",
          "name": "stderr",
          "text": [
            "100%|██████████| 9.91M/9.91M [00:00<00:00, 56.5MB/s]\n",
            "100%|██████████| 28.9k/28.9k [00:00<00:00, 1.85MB/s]\n",
            "100%|██████████| 1.65M/1.65M [00:00<00:00, 14.4MB/s]\n",
            "100%|██████████| 4.54k/4.54k [00:00<00:00, 4.54MB/s]\n"
          ]
        },
        {
          "output_type": "stream",
          "name": "stdout",
          "text": [
            "Epoch 1, Loss: 163.3902\n",
            "Epoch 2, Loss: 120.7459\n",
            "Epoch 3, Loss: 114.2990\n",
            "Epoch 4, Loss: 111.4222\n",
            "Epoch 5, Loss: 109.7523\n",
            "Epoch 6, Loss: 108.5739\n",
            "Epoch 7, Loss: 107.6914\n",
            "Epoch 8, Loss: 107.0568\n",
            "Epoch 9, Loss: 106.5237\n",
            "Epoch 10, Loss: 106.1405\n"
          ]
        }
      ]
    },
    {
      "cell_type": "code",
      "source": [
        "import matplotlib.pyplot as plt\n",
        "import numpy as np\n",
        "\n",
        "# Set model to evaluation mode\n",
        "model.eval()\n",
        "\n",
        "# Get a batch of test images\n",
        "test_dataset = datasets.MNIST(root='./data', train=False, transform=transform, download=True)\n",
        "test_loader = DataLoader(test_dataset, batch_size=10, shuffle=True)\n",
        "\n",
        "# Take one batch\n",
        "with torch.no_grad():\n",
        "    for data, _ in test_loader:\n",
        "        data = data.view(-1, 784).to(device)\n",
        "        recon_batch, _, _ = model(data)\n",
        "        break  # Just one batch is enough for visualization\n",
        "\n",
        "# Convert tensors to numpy arrays\n",
        "originals = data.view(-1, 28, 28).cpu().numpy()\n",
        "reconstructions = recon_batch.view(-1, 28, 28).cpu().numpy()\n",
        "\n",
        "# Plot\n",
        "n = 10  # Number of images to display\n",
        "plt.figure(figsize=(18, 4))\n",
        "for i in range(n):\n",
        "    # Original\n",
        "    ax = plt.subplot(2, n, i + 1)\n",
        "    plt.imshow(originals[i], cmap='gray')\n",
        "    plt.title(\"Original\")\n",
        "    plt.axis('off')\n",
        "\n",
        "    # Reconstructed\n",
        "    ax = plt.subplot(2, n, i + 1 + n)\n",
        "    plt.imshow(reconstructions[i], cmap='gray')\n",
        "    plt.title(\"Reconstructed\")\n",
        "    plt.axis('off')\n",
        "\n",
        "plt.tight_layout()\n",
        "plt.show()"
      ],
      "metadata": {
        "id": "VbOT1hsgQ2gg",
        "colab": {
          "base_uri": "https://localhost:8080/",
          "height": 325
        },
        "outputId": "a23dd851-7fce-4b39-9697-2af14e685215"
      },
      "execution_count": null,
      "outputs": [
        {
          "output_type": "display_data",
          "data": {
            "text/plain": [
              "<Figure size 1800x400 with 20 Axes>"
            ],
            "image/png": "[encoded data removed]"
          },
          "metadata": {}
        }
      ]
    },
    {
      "cell_type": "code",
      "source": [],
      "metadata": {
        "id": "WaIMo_zcMFM4"
      },
      "execution_count": null,
      "outputs": []
    }
  ]
}