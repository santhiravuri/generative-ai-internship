{
  "nbformat": 4,
  "nbformat_minor": 0,
  "metadata": {
    "colab": {
      "provenance": [],
      "include_colab_link": true
    },
    "kernelspec": {
      "name": "python3",
      "display_name": "Python 3"
    },
    "language_info": {
      "name": "python"
    }
  },
  "cells": [
    {
      "cell_type": "markdown",
      "metadata": {
        "id": "view-in-github",
        "colab_type": "text"
      },
      "source": [
        "<a href=\"https://colab.research.google.com/github/santhiravuri/generative-ai-internship/blob/main/day2.ipynb\" target=\"_parent\"><img src=\"https://colab.research.google.com/assets/colab-badge.svg\" alt=\"Open In Colab\"/></a>"
      ]
    },
    {
      "cell_type": "code",
      "execution_count": null,
      "metadata": {
        "colab": {
          "base_uri": "https://localhost:8080/"
        },
        "id": "jdMvyHRj4OhL",
        "outputId": "d568dff7-9361-4ba9-b68d-7568e24eda13"
      },
      "outputs": [
        {
          "output_type": "stream",
          "name": "stdout",
          "text": [
            "Output:\n",
            " tensor([[0.2000],\n",
            "        [0.7000],\n",
            "        [0.9000]])\n",
            "Target:\n",
            " tensor([[0.],\n",
            "        [1.],\n",
            "        [1.]])\n",
            "Loss: 0.046666670590639114\n"
          ]
        }
      ],
      "source": [
        "import torch\n",
        "import torch.nn as nn\n",
        "#sample output and target tensors\n",
        "\n",
        "output = torch.tensor([[0.2], [0.7], [0.9]], dtype=torch.float32)\n",
        "target = torch.tensor([[0.0], [1.0], [1.0]], dtype=torch.float32)\n",
        "\n",
        "#define mse loss\n",
        "loss_fn = nn.MSELoss()\n",
        "\n",
        "#calculate loss\n",
        "\n",
        "loss = loss_fn(output, target)\n",
        "\n",
        "print(\"Output:\\n\", output)\n",
        "print(\"Target:\\n\", target)\n",
        "print(\"Loss:\", loss.item())"
      ]
    },
    {
      "cell_type": "code",
      "source": [
        "import torch\n",
        "import torch.nn as nn\n",
        "\n",
        "#samput output and target values\n",
        "\n",
        "output=torch.tensor([[0.2], [0.7], [0.9]], dtype=torch.float32)\n",
        "target = torch.tensor([[0.0], [1.0], [1.0]], dtype=torch.float32)\n",
        "\n",
        "#define bce loss\n",
        "\n",
        "loss_fn = nn.BCELoss()\n",
        "\n",
        "#calculate loss\n",
        "\n",
        "loss = loss_fn(output, target)\n",
        "\n",
        "print(\"Output:\\n\", output)\n",
        "print(\"Target:\\n\", target)\n",
        "print(\"Loss:\", loss.item())\n"
      ],
      "metadata": {
        "colab": {
          "base_uri": "https://localhost:8080/"
        },
        "id": "EHOP8Xfz6sV0",
        "outputId": "ea51ea16-7137-48ae-c638-c35b4b6dc74e"
      },
      "execution_count": null,
      "outputs": [
        {
          "output_type": "stream",
          "name": "stdout",
          "text": [
            "Output:\n",
            " tensor([[0.2000],\n",
            "        [0.7000],\n",
            "        [0.9000]])\n",
            "Target:\n",
            " tensor([[0.],\n",
            "        [1.],\n",
            "        [1.]])\n",
            "Loss: 0.22839303314685822\n"
          ]
        }
      ]
    },
    {
      "cell_type": "code",
      "source": [
        "\"\"\"| Aspect         | MSE Loss                       | BCE Loss                    |\n",
        "| -------------- | ------------------------------ | --------------------------- |\n",
        "| Input Type     | Continuous                     | Binary / \\[0, 1] normalized |\n",
        "| Decoder Output | Linear, ReLU, Tanh             | Sigmoid                     |\n",
        "| Loss Shape     | Quadratic (penalizes big diff) | Logarithmic                 |\n",
        "| Output Range   | Real numbers                   | \\[0, 1] probabilities       |\n",
        "| Used in        | Denoising AE, VAE (reg)        | Binary AE, VAE (bin)\"\"\""
      ],
      "metadata": {
        "id": "AscPOZGS7b8P"
      },
      "execution_count": null,
      "outputs": []
    },
    {
      "cell_type": "code",
      "source": [
        "#Input x ──► [Encoder] ──► Latent vector z ──► [Decoder] ──► Output x̂import torch\n",
        "\n",
        "import torch.nn as nn\n",
        "# Define the AE model (as in your code)\n",
        "class AE(nn.Module):\n",
        "    def __init__(self):\n",
        "        super().__init__()\n",
        "        self.encoder = nn.Sequential(\n",
        "            nn.Linear(784, 128),\n",
        "            nn.ReLU(),\n",
        "            nn.Linear(128, 32)\n",
        "        )\n",
        "        self.decoder = nn.Sequential(\n",
        "            nn.Linear(32, 128),\n",
        "            nn.ReLU(),\n",
        "            nn.Linear(128, 784),\n",
        "            nn.Sigmoid()\n",
        "        )\n",
        "\n",
        "    def forward(self, x):\n",
        "        z = self.encoder(x)\n",
        "        return self.decoder(z)\n",
        "\n",
        "# Create a model instance\n",
        "model = AE()\n",
        "\n",
        "# Create a sample input: a batch of 1 flattened image (values between 0 and 1)\n",
        "x = torch.rand((1, 784))  # batch size = 1, each image is 784-dim (28x28)\n",
        "\n",
        "# Pass through the model\n",
        "output = model(x)\n",
        "\n",
        "# Print the output\n",
        "print(\"Input shape:\", x.shape)\n",
        "print(\"Output shape:\", output.shape)\n",
        "print(\"Reconstructed output (first 5 values):\", output[0][:10])"
      ],
      "metadata": {
        "colab": {
          "base_uri": "https://localhost:8080/"
        },
        "id": "V8c3xthd7pWB",
        "outputId": "d96cfb37-6578-4663-a9d4-a0f6ba9100ae"
      },
      "execution_count": null,
      "outputs": [
        {
          "output_type": "stream",
          "name": "stdout",
          "text": [
            "Input shape: torch.Size([1, 784])\n",
            "Output shape: torch.Size([1, 784])\n",
            "Reconstructed output (first 5 values): tensor([0.4871, 0.4978, 0.4886, 0.4883, 0.4824, 0.4573, 0.5030, 0.4942, 0.5464,\n",
            "        0.5196], grad_fn=<SliceBackward0>)\n"
          ]
        }
      ]
    }
  ]
}